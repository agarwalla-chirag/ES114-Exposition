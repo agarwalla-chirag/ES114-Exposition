{
  "cells": [
    {
      "cell_type": "raw",
      "metadata": {
        "vscode": {
          "languageId": "raw"
        }
      },
      "source": [
        "---\n",
        "author: Chirag Agarwalla, Niraj Kumar, Nishanth P Hegde\n",
        "badges: true\n",
        "categories:\n",
        "- ML\n",
        "date: '2025-02-25'\n",
        "title: Sympy Stats\n",
        "toc: true\n",
        "---"
      ]
    },
    {
      "cell_type": "markdown",
      "metadata": {
        "id": "6yHLJjFl_nNe"
      },
      "source": [
        "# **Introduction**\n",
        "\n",
        "SymPy Stats is a powerful module in the SymPy library that provides symbolic tools for probability and statistics in Python. It enables the algebraic manipulation of random variables, making it perfect for probabilistic modeling and statistical analysis.\n",
        "\n",
        "In this blog, we’ll explore the key features of SymPy Stats, including how to define random variables, compute probabilities, and analyze statistical properties such as expectation, variance, and more. Additionally, we’ll dive into important concepts like conditional probability, independence, and other advanced topics in symbolic statistics.\n",
        "\n"
      ]
    },
    {
      "cell_type": "markdown",
      "metadata": {
        "id": "o8ds9C6w_HJ1"
      },
      "source": [
        "# **Installation and Setup**"
      ]
    },
    {
      "cell_type": "markdown",
      "metadata": {
        "id": "4E5gcs3qHFRS"
      },
      "source": [
        "To use SymPy Stats, ensure that SymPy is installed. It can be installed using:\n",
        "```python\n",
        "pip install sympy\n",
        "```\n",
        "Now, import the necessary modules:"
      ]
    },
    {
      "cell_type": "code",
      "execution_count": 2,
      "metadata": {
        "id": "mga9zI5E0Uc4"
      },
      "outputs": [],
      "source": [
        "from sympy.stats import *\n",
        "from sympy import symbols, Eq, simplify\n",
        "import matplotlib.pyplot as plt\n",
        "import numpy as np"
      ]
    },
    {
      "cell_type": "markdown",
      "metadata": {
        "id": "2V4RABp5_XVx"
      },
      "source": [
        "# **Key Features and Explanations with Code Examples**\n",
        "SymPy Stats provides functionalities for:"
      ]
    },
    {
      "cell_type": "markdown",
      "metadata": {
        "id": "YPRKnBekKfqq"
      },
      "source": [
        "# Defining Random Variables and Probablity Computation"
      ]
    },
    {
      "cell_type": "markdown",
      "metadata": {
        "id": "LLb3maKjLVuH"
      },
      "source": [
        "**Standard Normal Distribution**\n",
        "\n",
        "We define a random variable 'Norm' that follows a normal distribution with a mean (𝜇) = 0 and standard deviation σ=1, which makes it a standard normal variable.\n",
        "\n",
        "Then,\n",
        "P(Norm>0) calculates the probability that 'Norm' is greater than 0. This is the area under the normal curve to the right of 0."
      ]
    },
    {
      "cell_type": "code",
      "execution_count": 3,
      "metadata": {
        "colab": {
          "base_uri": "https://localhost:8080/",
          "height": 68
        },
        "id": "AlC1bWwM6_Sv",
        "outputId": "47ed09f7-0164-4c23-9919-a041e02627ed"
      },
      "outputs": [
        {
          "name": "stdout",
          "output_type": "stream",
          "text": [
            "The probablity of normal distribution is:\n"
          ]
        },
        {
          "data": {
            "text/latex": [
              "$\\displaystyle \\frac{1}{2}$"
            ],
            "text/plain": [
              "1/2"
            ]
          },
          "execution_count": 3,
          "metadata": {},
          "output_type": "execute_result"
        }
      ],
      "source": [
        "Norm = Normal('Norm', 0, 1)\n",
        "\n",
        "print(\"The probablity of normal distribution is:\")\n",
        "P(Norm > 0)"
      ]
    },
    {
      "cell_type": "markdown",
      "metadata": {
        "id": "qDUz-fbV8tba"
      },
      "source": [
        "**Exponential Distribution**\n",
        "\n",
        "We define a random variable 'Exp' that follows an exponential distribution with a rate parameter λ=1, which makes it an exponential variable with mean μ=1.\n",
        "\n",
        "For a continuous random variable, calculating P(Exp=1) gives the probability that 'Exp' is exactly equal to 1. However, since the exponential distribution is continuous, the probability of 'Exp' being exactly 1 is 0.\n",
        "\n",
        "On the other hand, P(0<Exp<1) calculates the probability that 'Exp' lies between 0 and 1. This is the area under the curve between 0 and 1."
      ]
    },
    {
      "cell_type": "code",
      "execution_count": 4,
      "metadata": {
        "colab": {
          "base_uri": "https://localhost:8080/",
          "height": 55
        },
        "id": "HGgXr9yP7Iiz",
        "outputId": "d57bf66f-e9f8-4bf5-b882-7480bf232d06"
      },
      "outputs": [
        {
          "name": "stdout",
          "output_type": "stream",
          "text": [
            "The probability Exp = 1 is:\n"
          ]
        },
        {
          "data": {
            "text/latex": [
              "$\\displaystyle 0$"
            ],
            "text/plain": [
              "0"
            ]
          },
          "execution_count": 4,
          "metadata": {},
          "output_type": "execute_result"
        }
      ],
      "source": [
        "Exp = Exponential('Exp', 1)\n",
        "\n",
        "print(\"The probability Exp = 1 is:\")\n",
        "P(Eq(Exp, 1))"
      ]
    },
    {
      "cell_type": "code",
      "execution_count": 5,
      "metadata": {
        "colab": {
          "base_uri": "https://localhost:8080/",
          "height": 56
        },
        "id": "GjKZ6cywOBoC",
        "outputId": "90ce0646-4178-40fe-c88d-abd3c947c7df"
      },
      "outputs": [
        {
          "name": "stdout",
          "output_type": "stream",
          "text": [
            "The probability that 0 < Exp < 1 is:\n"
          ]
        },
        {
          "data": {
            "text/latex": [
              "$\\displaystyle 1 - e^{-1}$"
            ],
            "text/plain": [
              "1 - exp(-1)"
            ]
          },
          "execution_count": 5,
          "metadata": {},
          "output_type": "execute_result"
        }
      ],
      "source": [
        "print(\"The probability that 0 < Exp < 1 is:\")\n",
        "P((Exp > 0) & (Exp < 1))"
      ]
    },
    {
      "cell_type": "markdown",
      "metadata": {
        "id": "1GVrJQrjOChN"
      },
      "source": [
        "**Uniform Distribution**\n",
        "\n",
        "We define a random variable 'Uni' that follows a uniform distribution between 0 and 10, meaning it has equal probability across this range.\n",
        "\n",
        "Then, P(Uni<5) calculates the probability that 'Uni' is less than 5. This probability is proportional to the length of the interval [0,5] relative to the total range [0,10], representing the area under the uniform curve from 0 to 5.\n",
        "\n"
      ]
    },
    {
      "cell_type": "code",
      "execution_count": 6,
      "metadata": {
        "colab": {
          "base_uri": "https://localhost:8080/",
          "height": 68
        },
        "id": "xtam7hAX8YZc",
        "outputId": "a59e2e65-8df5-49dd-a185-b70c636bd576"
      },
      "outputs": [
        {
          "name": "stdout",
          "output_type": "stream",
          "text": [
            "The probability that Uni < 5 is:\n"
          ]
        },
        {
          "data": {
            "text/latex": [
              "$\\displaystyle \\frac{1}{2}$"
            ],
            "text/plain": [
              "1/2"
            ]
          },
          "execution_count": 6,
          "metadata": {},
          "output_type": "execute_result"
        }
      ],
      "source": [
        "Uni = Uniform('Uni', 0, 10)\n",
        "\n",
        "print(\"The probability that Uni < 5 is:\")\n",
        "P(Uni < 5)"
      ]
    },
    {
      "cell_type": "markdown",
      "metadata": {
        "id": "_GXWFeibQcf-"
      },
      "source": [
        "**Bernoulli Distribution**\n",
        "\n",
        "We define a random variable 'Bern' that follows a Bernoulli distribution with probability p=0.5. It has two outcomes: 1 (success) with probability '𝑝', and 0 (failure) with probability '1−p'.\n",
        "\n",
        "Then, 𝑃(Eq(Bern,1)) calculates the probability that 'Bern' equals 1. This represents the probability of success in a Bernoulli trial."
      ]
    },
    {
      "cell_type": "code",
      "execution_count": 7,
      "metadata": {
        "colab": {
          "base_uri": "https://localhost:8080/",
          "height": 55
        },
        "id": "zL0CWvmt8f6N",
        "outputId": "2c7059ae-567f-41cd-ecbe-4496d8b2fa0c"
      },
      "outputs": [
        {
          "name": "stdout",
          "output_type": "stream",
          "text": [
            "The probability that Bern = 1 is:\n"
          ]
        },
        {
          "data": {
            "text/latex": [
              "$\\displaystyle 0.5$"
            ],
            "text/plain": [
              "0.500000000000000"
            ]
          },
          "execution_count": 7,
          "metadata": {},
          "output_type": "execute_result"
        }
      ],
      "source": [
        "Bern = Bernoulli('Bern', 0.5)\n",
        "\n",
        "print(\"The probability that Bern = 1 is:\")\n",
        "P(Eq(Bern, 1))"
      ]
    },
    {
      "cell_type": "markdown",
      "metadata": {
        "id": "ZKvls8bPTdrf"
      },
      "source": [
        "**Binomial Distribution**\n",
        "\n",
        "We define a random variable 'Bin' that follows a Binomial distribution with parameters n=10 and p=0.5, meaning there are 10 independent Bernoulli trials, each with a probability p=0.5 of success.\n",
        "\n",
        "Then, P(Eq(Bin,5)) calculates the probability that 'Bin' equals 5, which represents the probability of having exactly 5 successes out of the 10 trials and is computed using the Binomial probability mass function."
      ]
    },
    {
      "cell_type": "code",
      "execution_count": 8,
      "metadata": {
        "colab": {
          "base_uri": "https://localhost:8080/",
          "height": 55
        },
        "id": "c7X8IkFc8mRq",
        "outputId": "68f94032-3036-424c-bc14-bf56d8e1b7c2"
      },
      "outputs": [
        {
          "name": "stdout",
          "output_type": "stream",
          "text": [
            "The probability that Bin = 5 is:\n"
          ]
        },
        {
          "data": {
            "text/latex": [
              "$\\displaystyle 0.24609375$"
            ],
            "text/plain": [
              "0.246093750000000"
            ]
          },
          "execution_count": 8,
          "metadata": {},
          "output_type": "execute_result"
        }
      ],
      "source": [
        "Bin = Binomial('Bin', 10, 0.5)\n",
        "\n",
        "print(\"The probability that Bin = 5 is:\")\n",
        "P(Eq(Bin, 5))"
      ]
    },
    {
      "cell_type": "markdown",
      "metadata": {
        "id": "SGngAEt6Uu8k"
      },
      "source": [
        "**Poisson Distribution**\n",
        "\n",
        "We define a random variable 'Poiss' that follows a Poisson distribution with a mean λ=3.\n",
        "\n",
        "Then, P(Eq(Poiss,2)) calculates the probability that 'Poiss'equals 2, which represents the probability of exactly 2 events occurring in the given interval and is computed using the Poisson probability mass function.\n",
        "\n",
        "This gives the likelihood of observing exactly 2 events when the average number of events is 3."
      ]
    },
    {
      "cell_type": "code",
      "execution_count": 9,
      "metadata": {
        "colab": {
          "base_uri": "https://localhost:8080/",
          "height": 68
        },
        "id": "XcGDjAUS8q63",
        "outputId": "e8474360-ebd6-4237-df07-0b6244bfc8cb"
      },
      "outputs": [
        {
          "name": "stdout",
          "output_type": "stream",
          "text": [
            "The probability that Poiss = 2 is:\n"
          ]
        },
        {
          "data": {
            "text/latex": [
              "$\\displaystyle \\frac{9}{2 e^{3}}$"
            ],
            "text/plain": [
              "9*exp(-3)/2"
            ]
          },
          "execution_count": 9,
          "metadata": {},
          "output_type": "execute_result"
        }
      ],
      "source": [
        "Poiss = Poisson('Poiss', 3)\n",
        "\n",
        "print(\"The probability that Poiss = 2 is:\")\n",
        "P(Eq(Poiss, 2))"
      ]
    },
    {
      "cell_type": "markdown",
      "metadata": {
        "id": "4Eq2_R20KaJV"
      },
      "source": [
        "# Expectation and Variance  \n",
        "\n"
      ]
    },
    {
      "cell_type": "markdown",
      "metadata": {
        "id": "NMoVuugVMhOv"
      },
      "source": [
        "- **Expectation (E)**: The expectation, or mean, of a random variable represents its average value over many trials. It gives the central tendency of the distribution.  \n",
        "\n",
        "- **Variance**: Variance measures how much the values of a random variable deviate from the mean. A higher variance indicates a wider spread, while a lower variance means the values are closer to the mean.  \n",
        "\n",
        "For a normal distribution, the expectation is the mean (μ), and the variance is the square of the standard deviation (σ²).\n"
      ]
    },
    {
      "cell_type": "code",
      "execution_count": 10,
      "metadata": {
        "colab": {
          "base_uri": "https://localhost:8080/"
        },
        "id": "X2kMGrU5iiC5",
        "outputId": "f73470af-5304-4d51-9ac4-f5f1b11f4bf7"
      },
      "outputs": [
        {
          "name": "stdout",
          "output_type": "stream",
          "text": [
            "The expectation and variance of normal distribution is:\n"
          ]
        },
        {
          "data": {
            "text/plain": [
              "(0, 1)"
            ]
          },
          "execution_count": 10,
          "metadata": {},
          "output_type": "execute_result"
        }
      ],
      "source": [
        "print(\"The expectation and variance of normal distribution is:\")\n",
        "E(Norm), variance(Norm)"
      ]
    },
    {
      "cell_type": "code",
      "execution_count": 11,
      "metadata": {
        "colab": {
          "base_uri": "https://localhost:8080/"
        },
        "id": "9bZ7A9kDirKD",
        "outputId": "d1ad970a-4e0c-4db0-9a33-d6b0bc319eb0"
      },
      "outputs": [
        {
          "name": "stdout",
          "output_type": "stream",
          "text": [
            "The expectation and variance of exponential distribution is:\n"
          ]
        },
        {
          "data": {
            "text/plain": [
              "(1, 1)"
            ]
          },
          "execution_count": 11,
          "metadata": {},
          "output_type": "execute_result"
        }
      ],
      "source": [
        "print(\"The expectation and variance of exponential distribution is:\")\n",
        "E(Exp), variance(Exp)"
      ]
    },
    {
      "cell_type": "code",
      "execution_count": 12,
      "metadata": {
        "colab": {
          "base_uri": "https://localhost:8080/"
        },
        "id": "m9hw0Qh0i-S_",
        "outputId": "ae8560ff-1e6b-4cef-c8c5-b4e9e641ed5c"
      },
      "outputs": [
        {
          "name": "stdout",
          "output_type": "stream",
          "text": [
            "The expectation and variance of uniform distribution is:\n"
          ]
        },
        {
          "data": {
            "text/plain": [
              "(5, 25/3)"
            ]
          },
          "execution_count": 12,
          "metadata": {},
          "output_type": "execute_result"
        }
      ],
      "source": [
        "print(\"The expectation and variance of uniform distribution is:\")\n",
        "E(Uni) ,variance(Uni)"
      ]
    },
    {
      "cell_type": "code",
      "execution_count": 13,
      "metadata": {
        "colab": {
          "base_uri": "https://localhost:8080/"
        },
        "id": "Inaf9CT5jFLv",
        "outputId": "f0a7e022-cdf5-432a-dca6-554cb34f457d"
      },
      "outputs": [
        {
          "name": "stdout",
          "output_type": "stream",
          "text": [
            "The expectation and variance of Bernoulli distribution is:\n"
          ]
        },
        {
          "data": {
            "text/plain": [
              "(0.500000000000000, 0.250000000000000)"
            ]
          },
          "execution_count": 13,
          "metadata": {},
          "output_type": "execute_result"
        }
      ],
      "source": [
        "print(\"The expectation and variance of Bernoulli distribution is:\")\n",
        "E(Bern), variance(Bern)"
      ]
    },
    {
      "cell_type": "code",
      "execution_count": 14,
      "metadata": {
        "colab": {
          "base_uri": "https://localhost:8080/"
        },
        "id": "LeCDGKm-iwwd",
        "outputId": "96e5b2fd-bf58-412b-fea4-7250dce28639"
      },
      "outputs": [
        {
          "name": "stdout",
          "output_type": "stream",
          "text": [
            "The expectation and variance of Binomial distribution is:\n"
          ]
        },
        {
          "data": {
            "text/plain": [
              "(5.00000000000000, 2.50000000000000)"
            ]
          },
          "execution_count": 14,
          "metadata": {},
          "output_type": "execute_result"
        }
      ],
      "source": [
        "print(\"The expectation and variance of Binomial distribution is:\")\n",
        "E(Bin), variance(Bin)"
      ]
    },
    {
      "cell_type": "code",
      "execution_count": 15,
      "metadata": {
        "colab": {
          "base_uri": "https://localhost:8080/"
        },
        "id": "0CZT5X1FizuQ",
        "outputId": "3689aa84-dbc3-4b02-8064-4b1a1ced626a"
      },
      "outputs": [
        {
          "name": "stdout",
          "output_type": "stream",
          "text": [
            "The expectation and variance of Poisson distribution is:\n"
          ]
        },
        {
          "data": {
            "text/plain": [
              "(3, 3)"
            ]
          },
          "execution_count": 15,
          "metadata": {},
          "output_type": "execute_result"
        }
      ],
      "source": [
        "print(\"The expectation and variance of Poisson distribution is:\")\n",
        "E(Poiss)  , variance(Poiss)"
      ]
    },
    {
      "cell_type": "markdown",
      "metadata": {
        "id": "ps0wvMQlLBhq"
      },
      "source": [
        "# Moment"
      ]
    },
    {
      "cell_type": "markdown",
      "metadata": {
        "id": "1y9DO-ayMubi"
      },
      "source": [
        "Moments are statistical measures that help describe the shape and properties of a probability distribution.\n",
        "\n",
        "Raw Moments: The nth moment about the origin is given by E(X ^ n ) and helps understand the overall magnitude of the values.\n",
        "\n",
        "Central Moments: Moments calculated about the mean describe variability and shape characteristics of the distribution.\n",
        "\n",
        "First Moment (Expectation): Represents the average or central value of the distribution.\n",
        "\n",
        "Second Moment (Variance): Measures the spread of the distribution around the mean.\n",
        "\n",
        "Third Moment (Skewness): Describes the asymmetry of the distribution—whether it leans more to the left or right.\n",
        "\n",
        "Fourth Moment (Kurtosis): Indicates the heaviness of the tails compared to a normal distribution, helping assess the likelihood of extreme values.\n",
        "\n",
        "Moments offer a more detailed understanding of a distribution's shape beyond just mean and variance."
      ]
    },
    {
      "cell_type": "code",
      "execution_count": 16,
      "metadata": {
        "colab": {
          "base_uri": "https://localhost:8080/",
          "height": 37
        },
        "id": "2u0qh9XvLwLX",
        "outputId": "93adafe9-9d20-417a-c151-7810056a6b2a"
      },
      "outputs": [
        {
          "data": {
            "text/latex": [
              "$\\displaystyle 0$"
            ],
            "text/plain": [
              "0"
            ]
          },
          "execution_count": 16,
          "metadata": {},
          "output_type": "execute_result"
        }
      ],
      "source": [
        "moment(Norm, 3)  # Third moment of Normal Distribution"
      ]
    },
    {
      "cell_type": "code",
      "execution_count": 17,
      "metadata": {
        "colab": {
          "base_uri": "https://localhost:8080/",
          "height": 37
        },
        "id": "02pTOweJL7X-",
        "outputId": "8832ec6c-5915-4958-a80c-cc35725ccca9"
      },
      "outputs": [
        {
          "data": {
            "text/latex": [
              "$\\displaystyle 24$"
            ],
            "text/plain": [
              "24"
            ]
          },
          "execution_count": 17,
          "metadata": {},
          "output_type": "execute_result"
        }
      ],
      "source": [
        "moment(Exp, 4)  # Fourth moment of Exponential Distribution"
      ]
    },
    {
      "cell_type": "code",
      "execution_count": 18,
      "metadata": {
        "colab": {
          "base_uri": "https://localhost:8080/",
          "height": 37
        },
        "id": "mzH7KRmNMA87",
        "outputId": "d20027a9-b71f-4e51-b7da-50f9463a5332"
      },
      "outputs": [
        {
          "data": {
            "text/latex": [
              "$\\displaystyle 12$"
            ],
            "text/plain": [
              "12"
            ]
          },
          "execution_count": 18,
          "metadata": {},
          "output_type": "execute_result"
        }
      ],
      "source": [
        "moment(Poiss, 2)  # Second moment of Poisson distribution"
      ]
    },
    {
      "cell_type": "code",
      "execution_count": 19,
      "metadata": {
        "colab": {
          "base_uri": "https://localhost:8080/",
          "height": 37
        },
        "id": "8MMGvDgaMHeT",
        "outputId": "68b95e25-f836-44db-921f-db94b029bb4c"
      },
      "outputs": [
        {
          "data": {
            "text/latex": [
              "$\\displaystyle 2$"
            ],
            "text/plain": [
              "2"
            ]
          },
          "execution_count": 19,
          "metadata": {},
          "output_type": "execute_result"
        }
      ],
      "source": [
        "skewness(Exp)  # Skewness of Exponential Distribution"
      ]
    },
    {
      "cell_type": "code",
      "execution_count": 20,
      "metadata": {
        "colab": {
          "base_uri": "https://localhost:8080/",
          "height": 37
        },
        "id": "WO_REi2xMRO3",
        "outputId": "251adfd0-8ddd-4bcf-d573-707d74ca3739"
      },
      "outputs": [
        {
          "data": {
            "text/latex": [
              "$\\displaystyle 9$"
            ],
            "text/plain": [
              "9"
            ]
          },
          "execution_count": 20,
          "metadata": {},
          "output_type": "execute_result"
        }
      ],
      "source": [
        "kurtosis(Exp)  # Kurtosis of Exponential Distribution"
      ]
    },
    {
      "cell_type": "markdown",
      "metadata": {
        "id": "zX9xquKxIAlx"
      },
      "source": [
        "# Entropy"
      ]
    },
    {
      "cell_type": "markdown",
      "metadata": {
        "id": "wdqu0HO4ag0V"
      },
      "source": [
        "Entropy is a measure of uncertainty or randomness in a probability distribution. In this context, it quantifies the uncertainty associated with the standard normal distribution represented by the variable Norm.\n",
        "\n",
        "H(X): This line calls the function H() from sympy.stats, which is used to calculate the entropy of a random variable."
      ]
    },
    {
      "cell_type": "code",
      "execution_count": 21,
      "metadata": {
        "colab": {
          "base_uri": "https://localhost:8080/",
          "height": 53
        },
        "id": "a_n7Gafu82jI",
        "outputId": "322f39e8-ea35-40bc-a298-615a21b0ffca"
      },
      "outputs": [
        {
          "data": {
            "text/latex": [
              "$\\displaystyle \\frac{\\log{\\left(2 \\right)}}{2} + \\frac{1}{2} + \\frac{\\log{\\left(\\pi \\right)}}{2}$"
            ],
            "text/plain": [
              "log(2)/2 + 1/2 + log(pi)/2"
            ]
          },
          "execution_count": 21,
          "metadata": {},
          "output_type": "execute_result"
        }
      ],
      "source": [
        "H(Norm)\n"
      ]
    },
    {
      "cell_type": "markdown",
      "metadata": {
        "id": "lAC4_pXbGta2"
      },
      "source": [
        "This line of code calculates the entropy of an exponential distribution.\n",
        "\n"
      ]
    },
    {
      "cell_type": "code",
      "execution_count": 22,
      "metadata": {
        "colab": {
          "base_uri": "https://localhost:8080/",
          "height": 37
        },
        "id": "8fnogzZZD0vk",
        "outputId": "d12bc2e0-27a3-4cfd-aa2e-f0b595446d48"
      },
      "outputs": [
        {
          "data": {
            "text/latex": [
              "$\\displaystyle 1$"
            ],
            "text/plain": [
              "1"
            ]
          },
          "execution_count": 22,
          "metadata": {},
          "output_type": "execute_result"
        }
      ],
      "source": [
        "H(Exp)"
      ]
    },
    {
      "cell_type": "markdown",
      "metadata": {
        "id": "kJ95Z9HhGvX2"
      },
      "source": [
        "\n",
        "\n",
        "This line of code calculates the entropy of a Bernoulli random variable.\n",
        "\n"
      ]
    },
    {
      "cell_type": "code",
      "execution_count": 23,
      "metadata": {
        "colab": {
          "base_uri": "https://localhost:8080/",
          "height": 37
        },
        "id": "tT8iE-AWD12S",
        "outputId": "cafedb7c-5519-443a-9d66-cba0d5a0ec23"
      },
      "outputs": [
        {
          "data": {
            "text/latex": [
              "$\\displaystyle 0.693147180559945$"
            ],
            "text/plain": [
              "0.693147180559945"
            ]
          },
          "execution_count": 23,
          "metadata": {},
          "output_type": "execute_result"
        }
      ],
      "source": [
        "H(Bern)\n"
      ]
    },
    {
      "cell_type": "markdown",
      "metadata": {
        "id": "8vz0IRQ5IGAM"
      },
      "source": [
        "# Density"
      ]
    },
    {
      "cell_type": "markdown",
      "metadata": {
        "id": "eP5QGBOEHq-6"
      },
      "source": [
        "This is a function from sympy.stats that is used to obtain the probability density function (PDF) of a random variable. The PDF describes the likelihood of a random variable taking on a specific value.\n",
        "this line of code is asking for the mathematical formula that describes the shape of the standard normal distribution\n",
        "\n"
      ]
    },
    {
      "cell_type": "code",
      "execution_count": 24,
      "metadata": {
        "colab": {
          "base_uri": "https://localhost:8080/",
          "height": 37
        },
        "id": "UiOa2082EGPX",
        "outputId": "0703d8d8-09ed-4d31-d2c4-42caa7346aea"
      },
      "outputs": [
        {
          "data": {
            "text/latex": [
              "$\\displaystyle \\operatorname{NormalDistribution}\\left(0, 1\\right)$"
            ],
            "text/plain": [
              "NormalDistribution(0, 1)"
            ]
          },
          "execution_count": 24,
          "metadata": {},
          "output_type": "execute_result"
        }
      ],
      "source": [
        "density(Norm)\n"
      ]
    },
    {
      "cell_type": "code",
      "execution_count": 25,
      "metadata": {
        "colab": {
          "base_uri": "https://localhost:8080/",
          "height": 37
        },
        "id": "iwaZn9VwILmu",
        "outputId": "e7834862-4d40-4bb1-a5ee-d33cdbba14d1"
      },
      "outputs": [
        {
          "data": {
            "text/latex": [
              "$\\displaystyle \\operatorname{ExponentialDistribution}\\left(1\\right)$"
            ],
            "text/plain": [
              "ExponentialDistribution(1)"
            ]
          },
          "execution_count": 25,
          "metadata": {},
          "output_type": "execute_result"
        }
      ],
      "source": [
        "density(Exp)"
      ]
    },
    {
      "cell_type": "code",
      "execution_count": 26,
      "metadata": {
        "colab": {
          "base_uri": "https://localhost:8080/",
          "height": 37
        },
        "id": "S4ARi-EXIj2S",
        "outputId": "cf9422a8-7c1c-4e49-f315-390e62902d2f"
      },
      "outputs": [
        {
          "data": {
            "text/latex": [
              "$\\displaystyle \\operatorname{PoissonDistribution}\\left(3\\right)$"
            ],
            "text/plain": [
              "PoissonDistribution(3)"
            ]
          },
          "execution_count": 26,
          "metadata": {},
          "output_type": "execute_result"
        }
      ],
      "source": [
        "density(Poiss)"
      ]
    },
    {
      "cell_type": "markdown",
      "metadata": {
        "id": "GaTUVeb9IqW4"
      },
      "source": [
        "# Cumulative Distribution Function"
      ]
    },
    {
      "cell_type": "markdown",
      "metadata": {
        "id": "PyuJZITXIK0H"
      },
      "source": [
        "The cdf(Exp) line is calculating this probability for the exponential distribution represented by Exp. The exponential distribution is often used to model the time until an event occurs."
      ]
    },
    {
      "cell_type": "code",
      "execution_count": 27,
      "metadata": {
        "colab": {
          "base_uri": "https://localhost:8080/",
          "height": 68
        },
        "id": "juu3R-tQEN7C",
        "outputId": "856bb666-22aa-4799-c8e2-fdbf34be7128"
      },
      "outputs": [
        {
          "data": {
            "text/latex": [
              "$\\displaystyle \\left( z \\mapsto \\begin{cases} 1 - e^{- z} & \\text{for}\\: z \\geq 0 \\\\0 & \\text{otherwise} \\end{cases} \\right)$"
            ],
            "text/plain": [
              "Lambda(_z, Piecewise((1 - exp(-_z), _z >= 0), (0, True)))"
            ]
          },
          "execution_count": 27,
          "metadata": {},
          "output_type": "execute_result"
        }
      ],
      "source": [
        "cdf(Exp)"
      ]
    },
    {
      "cell_type": "markdown",
      "metadata": {
        "id": "uEYx35nrI8I_"
      },
      "source": [
        "The cdf of Bernoulli Distribution can be shown as:"
      ]
    },
    {
      "cell_type": "code",
      "execution_count": 28,
      "metadata": {
        "colab": {
          "base_uri": "https://localhost:8080/"
        },
        "id": "Khtd_7ssIxuX",
        "outputId": "378f1323-92ea-4d7c-91b5-c4befc462712"
      },
      "outputs": [
        {
          "data": {
            "text/plain": [
              "{0: 0.500000000000000, 1: 1.00000000000000}"
            ]
          },
          "execution_count": 28,
          "metadata": {},
          "output_type": "execute_result"
        }
      ],
      "source": [
        "cdf(Bern)"
      ]
    },
    {
      "cell_type": "markdown",
      "metadata": {
        "id": "oSVS6j5IJE8T"
      },
      "source": [
        "# Quantile"
      ]
    },
    {
      "cell_type": "markdown",
      "metadata": {
        "id": "JG1fReyEIubz"
      },
      "source": [
        "The code is asking for the value (on the x-axis of the standard normal distribution) below which 95% of the data falls. This is also known as the 95th percentile or 0.95 quantile. Imagine the bell curve of the standard normal distribution – this code finds the point where 95% of the area under the curve is to the left of that point"
      ]
    },
    {
      "cell_type": "code",
      "execution_count": 29,
      "metadata": {
        "colab": {
          "base_uri": "https://localhost:8080/",
          "height": 47
        },
        "id": "W5S06XCREOpG",
        "outputId": "5f376034-a9d2-4eff-ce39-868caa71b145"
      },
      "outputs": [
        {
          "data": {
            "text/latex": [
              "$\\displaystyle \\left( p \\mapsto \\sqrt{2} \\operatorname{erfinv}{\\left(2 p - 1 \\right)} \\right)$"
            ],
            "text/plain": [
              "Lambda(_p, sqrt(2)*erfinv(2*_p - 1))"
            ]
          },
          "execution_count": 29,
          "metadata": {},
          "output_type": "execute_result"
        }
      ],
      "source": [
        "quantile(Norm, 0.95)"
      ]
    },
    {
      "cell_type": "code",
      "execution_count": 30,
      "metadata": {
        "colab": {
          "base_uri": "https://localhost:8080/",
          "height": 38
        },
        "id": "NLl2ACKaJTAU",
        "outputId": "6d3b325a-97a6-4e1c-9faf-5f8484596fca"
      },
      "outputs": [
        {
          "data": {
            "text/latex": [
              "$\\displaystyle \\left( p \\mapsto - \\log{\\left(1 - p \\right)} \\right)$"
            ],
            "text/plain": [
              "Lambda(_p, -log(1 - _p))"
            ]
          },
          "execution_count": 30,
          "metadata": {},
          "output_type": "execute_result"
        }
      ],
      "source": [
        "quantile(Exp, 0.95)"
      ]
    },
    {
      "cell_type": "markdown",
      "metadata": {
        "id": "6pRWe5xuJN3i"
      },
      "source": [
        "# Conditional Probability"
      ]
    },
    {
      "cell_type": "markdown",
      "metadata": {
        "id": "lJAeiqE5JW_W"
      },
      "source": [
        "This code snippet calculates the probability that a random variable, represented by Norm, falls within a specific range given that it's part of a standard normal distribution.\n",
        "\n"
      ]
    },
    {
      "cell_type": "code",
      "execution_count": 31,
      "metadata": {
        "colab": {
          "base_uri": "https://localhost:8080/",
          "height": 64
        },
        "id": "w1UL7nfwEYvu",
        "outputId": "c65b7b03-4900-42fa-a712-351ae1d8f3eb"
      },
      "outputs": [
        {
          "data": {
            "text/latex": [
              "$\\displaystyle - \\frac{\\sqrt{2} \\pi e^{2} \\operatorname{erf}{\\left(\\sqrt{2} \\right)}}{- \\sqrt{2} \\pi e^{2} - \\sqrt{2} \\pi e^{2} \\operatorname{erf}{\\left(\\sqrt{2} \\right)}}$"
            ],
            "text/plain": [
              "-sqrt(2)*pi*exp(2)*erf(sqrt(2))/(-sqrt(2)*pi*exp(2) - sqrt(2)*pi*exp(2)*erf(sqrt(2)))"
            ]
          },
          "execution_count": 31,
          "metadata": {},
          "output_type": "execute_result"
        }
      ],
      "source": [
        "\n",
        "\n",
        "P(Norm > 0, Norm < 2)\n"
      ]
    },
    {
      "cell_type": "markdown",
      "metadata": {
        "id": "jK9v1BSoJYwV"
      },
      "source": [
        "This line calculates the probability that the random variable Exp (which was previously defined as an Exponential distribution) falls between the values of 2 and 5.\n",
        "\n"
      ]
    },
    {
      "cell_type": "code",
      "execution_count": 32,
      "metadata": {
        "colab": {
          "base_uri": "https://localhost:8080/",
          "height": 55
        },
        "id": "n4x-GHtmEZ4I",
        "outputId": "efed2f98-e7f0-49ea-b2c5-7775abe7f177"
      },
      "outputs": [
        {
          "data": {
            "text/latex": [
              "$\\displaystyle - \\frac{1}{-1 + e^{5}} + \\frac{e^{3}}{-1 + e^{5}}$"
            ],
            "text/plain": [
              "-1/(-1 + exp(5)) + exp(3)/(-1 + exp(5))"
            ]
          },
          "execution_count": 32,
          "metadata": {},
          "output_type": "execute_result"
        }
      ],
      "source": [
        "P(Exp > 2, Exp < 5)"
      ]
    },
    {
      "cell_type": "markdown",
      "metadata": {
        "id": "SpOaE3mhJjos"
      },
      "source": [
        "This code calculates the probability that the random variable Bin is greater than 3 and less than 8.\n",
        "\n"
      ]
    },
    {
      "cell_type": "code",
      "execution_count": 33,
      "metadata": {
        "colab": {
          "base_uri": "https://localhost:8080/",
          "height": 37
        },
        "id": "eEQHCTScEfFL",
        "outputId": "af6f80d3-ef4a-468a-e6ff-ddad124e3528"
      },
      "outputs": [
        {
          "data": {
            "text/latex": [
              "$\\displaystyle 0.818181818181818$"
            ],
            "text/plain": [
              "0.818181818181818"
            ]
          },
          "execution_count": 33,
          "metadata": {},
          "output_type": "execute_result"
        }
      ],
      "source": [
        "P(Bin > 3, Bin < 8)"
      ]
    },
    {
      "cell_type": "markdown",
      "metadata": {
        "id": "xl1bx0kCJk5I"
      },
      "source": [
        "This code calculates the probability that the random variable Poiss is greater than 1 and less than 4.\n",
        "\n"
      ]
    },
    {
      "cell_type": "code",
      "execution_count": 34,
      "metadata": {
        "colab": {
          "base_uri": "https://localhost:8080/",
          "height": 51
        },
        "id": "5Qq7kgOtEiUM",
        "outputId": "09d0ff13-ae8b-4a1a-b441-b13b3db48e24"
      },
      "outputs": [
        {
          "data": {
            "text/latex": [
              "$\\displaystyle \\frac{9}{13}$"
            ],
            "text/plain": [
              "9/13"
            ]
          },
          "execution_count": 34,
          "metadata": {},
          "output_type": "execute_result"
        }
      ],
      "source": [
        "P(Poiss > 1, Poiss < 4)"
      ]
    },
    {
      "cell_type": "markdown",
      "metadata": {
        "id": "z3HYL9pPJ2fW"
      },
      "source": [
        "This code aims to find the likelihood of these two events occurring simultaneously:\n",
        "\n",
        "A randomly selected value from a standard normal distribution being greater than 0.\n",
        "A randomly selected value from an exponential distribution being greater than 1.\n"
      ]
    },
    {
      "cell_type": "code",
      "execution_count": 35,
      "metadata": {
        "colab": {
          "base_uri": "https://localhost:8080/",
          "height": 51
        },
        "id": "e8Ovh6VOEpTE",
        "outputId": "810da09f-b3be-4c99-fa6f-2f5221104f36"
      },
      "outputs": [
        {
          "data": {
            "text/latex": [
              "$\\displaystyle \\frac{1}{2}$"
            ],
            "text/plain": [
              "1/2"
            ]
          },
          "execution_count": 35,
          "metadata": {},
          "output_type": "execute_result"
        }
      ],
      "source": [
        "P(Norm > 0, Exp > 1)\n"
      ]
    },
    {
      "cell_type": "markdown",
      "metadata": {
        "id": "0_IwKaxbJuxS"
      },
      "source": [
        "# Independence and Dependence of Random Variables"
      ]
    },
    {
      "cell_type": "markdown",
      "metadata": {
        "id": "q0OAcPmrKLx9"
      },
      "source": [
        "If the function returns True, it indicates that the variables are considered independent, meaning their outcomes don't affect each other. If it returns False, it suggests there might be some dependence or relationship between the variables.\n",
        "\n"
      ]
    },
    {
      "cell_type": "code",
      "execution_count": 36,
      "metadata": {
        "colab": {
          "base_uri": "https://localhost:8080/"
        },
        "id": "XM4-XXmqEu1f",
        "outputId": "8b051ea3-8e6a-483e-9376-018dd2df7ee6"
      },
      "outputs": [
        {
          "data": {
            "text/plain": [
              "True"
            ]
          },
          "execution_count": 36,
          "metadata": {},
          "output_type": "execute_result"
        }
      ],
      "source": [
        "independent(Norm, Exp)"
      ]
    },
    {
      "cell_type": "code",
      "execution_count": 37,
      "metadata": {
        "colab": {
          "base_uri": "https://localhost:8080/"
        },
        "id": "FZu9BUIjEyyn",
        "outputId": "47fc37c4-53ba-46dd-9797-30507f0038e6"
      },
      "outputs": [
        {
          "data": {
            "text/plain": [
              "True"
            ]
          },
          "execution_count": 37,
          "metadata": {},
          "output_type": "execute_result"
        }
      ],
      "source": [
        "independent(Bern, Bin)"
      ]
    },
    {
      "cell_type": "code",
      "execution_count": 38,
      "metadata": {
        "colab": {
          "base_uri": "https://localhost:8080/"
        },
        "id": "JV5ALoDHE2Pu",
        "outputId": "24676ae0-5502-4c25-97d0-fea6e62a09e7"
      },
      "outputs": [
        {
          "data": {
            "text/plain": [
              "False"
            ]
          },
          "execution_count": 38,
          "metadata": {},
          "output_type": "execute_result"
        }
      ],
      "source": [
        "dependent(Bern, Poiss)"
      ]
    },
    {
      "cell_type": "markdown",
      "metadata": {
        "id": "XjK4uAlRUNt2"
      },
      "source": [
        "# Covariance and Correlation"
      ]
    },
    {
      "cell_type": "markdown",
      "metadata": {
        "id": "NRvKsZAcUgEl"
      },
      "source": [
        "**Covariance**"
      ]
    },
    {
      "cell_type": "markdown",
      "metadata": {
        "id": "vCrzGAmxUlrz"
      },
      "source": [
        "Covariance measures how two random variables change together. It is calculated as:\n",
        "\n",
        "Cov(𝑋,𝑌)=𝐸[(𝑋−𝐸[𝑋])(𝑌−𝐸[𝑌])]\n"
      ]
    },
    {
      "cell_type": "code",
      "execution_count": 39,
      "metadata": {
        "colab": {
          "base_uri": "https://localhost:8080/"
        },
        "id": "Awy0AEiHFSJF",
        "outputId": "d4f17b9b-af02-4db1-8e60-19b91f1e4057"
      },
      "outputs": [
        {
          "name": "stdout",
          "output_type": "stream",
          "text": [
            "Covariance: 0\n"
          ]
        }
      ],
      "source": [
        "\n",
        "Norm_1 = Normal('Norm', 0, 1)  # Normal distribution with mean=0, std=1\n",
        "Norm_2 = Normal('Exp', 0, 2)  # Normal distribution with mean=0, std=2\n",
        "\n",
        "cov = covariance(Norm_1, Norm_2)\n",
        "\n",
        "print(\"Covariance:\", cov)\n"
      ]
    },
    {
      "cell_type": "markdown",
      "metadata": {
        "id": "c2AIvUMkVQ_u"
      },
      "source": [
        "**Correlation**"
      ]
    },
    {
      "cell_type": "markdown",
      "metadata": {
        "id": "ViQK7kR0VYYA"
      },
      "source": [
        "Correlation normalizes covariance by the standard deviations of the variables, giving a value between -1 and 1:\n",
        "\n",
        "Corr(𝑋,𝑌)=Cov(𝑋,𝑌)/(𝜎𝑋𝜎𝑌)\n",
        "\n"
      ]
    },
    {
      "cell_type": "code",
      "execution_count": 40,
      "metadata": {
        "colab": {
          "base_uri": "https://localhost:8080/"
        },
        "id": "ti11pHqnV8MA",
        "outputId": "b5bf15b4-6f6c-4af6-d0d5-a29dd84d411a"
      },
      "outputs": [
        {
          "name": "stdout",
          "output_type": "stream",
          "text": [
            "Correlation: 0\n"
          ]
        }
      ],
      "source": [
        "\n",
        "Norm_1 = Normal('Norm', 0, 1)  # Normal distribution with mean=0, std=1\n",
        "Norm_2 = Normal('Exp', 0, 2)  # Normal distribution with mean=0, std=2\n",
        "\n",
        "corr = correlation(Norm_1, Norm_2)\n",
        "\n",
        "print(\"Correlation:\", corr)"
      ]
    },
    {
      "cell_type": "markdown",
      "metadata": {
        "id": "xHIFM3tOXO-n"
      },
      "source": [
        "**Note:**\n",
        "1. If X and Y are independent, covariance(X, Y) will return 0.\n",
        "2. correlation(X, Y) normalizes the covariance to get a value between -1 and 1."
      ]
    },
    {
      "cell_type": "markdown",
      "metadata": {
        "id": "lGDWFixmX0FR"
      },
      "source": [
        "**Covariance between Binomial and Poisson**"
      ]
    },
    {
      "cell_type": "code",
      "execution_count": 41,
      "metadata": {
        "colab": {
          "base_uri": "https://localhost:8080/"
        },
        "id": "kBp5URUCWMp8",
        "outputId": "041179ca-df3f-405b-c699-22e3d7a29ae6"
      },
      "outputs": [
        {
          "name": "stdout",
          "output_type": "stream",
          "text": [
            "Covariance: 0\n"
          ]
        }
      ],
      "source": [
        "Bin = Binomial('Bin', n=10, p=0.5)  # Binomial(n=10, p=0.5)\n",
        "Poiss = Poisson('Poiss', 3)         # Poisson(λ=3)\n",
        "\n",
        "\n",
        "cov = covariance(Bin, Poiss)\n",
        "\n",
        "print(\"Covariance:\", cov)"
      ]
    },
    {
      "cell_type": "markdown",
      "metadata": {
        "id": "FqNMlOA2Yq3J"
      },
      "source": [
        "**Note:**\n",
        "1. If Bin and Poiss are independent, their covariance is 0.\n",
        "2. By default, SymPy assumes independence, so covariance(Bin, Poiss) returns 0."
      ]
    },
    {
      "cell_type": "markdown",
      "metadata": {
        "id": "StoD6M6ZZmP_"
      },
      "source": [
        "# Transformations of Random Variables"
      ]
    },
    {
      "cell_type": "markdown",
      "metadata": {
        "id": "kHnnSBd4Z5EL"
      },
      "source": [
        "If X is a random variable and Y = g(X) is a transformation of X, then:\n",
        "*   The new distribution of Y can be derived symbolically.\n",
        "*   SymPy can compute the **expectation, variance, and density function** of Y.\n",
        "\n",
        "Example: Linear Transformation\n",
        " Y = aX + b\n",
        "\n",
        "If X ~ N(0,1)\n",
        "(Standard Normal), and we define Y=2X+3, then:\n",
        "\n",
        "E[Y] = E[2X+3] = 2 E[X] + 3\n",
        "\n",
        "Var(Y) = Var(2X+3) = 2*2 Var(X) = 4"
      ]
    },
    {
      "cell_type": "code",
      "execution_count": 42,
      "metadata": {
        "colab": {
          "base_uri": "https://localhost:8080/",
          "height": 117
        },
        "id": "RDop5vvNY3Ob",
        "outputId": "90cabefb-38e6-4e22-874a-6c378970a073"
      },
      "outputs": [
        {
          "name": "stdout",
          "output_type": "stream",
          "text": [
            "E[Transformed_var]: 3\n",
            "Var[Transformed_var]: 4\n",
            "Density Function:\n"
          ]
        },
        {
          "data": {
            "text/latex": [
              "$\\displaystyle \\frac{\\sqrt{2} e^{- \\frac{\\left(y - 3\\right)^{2}}{8}}}{4 \\sqrt{\\pi}}$"
            ],
            "text/plain": [
              "sqrt(2)*exp(-(y - 3)**2/8)/(4*sqrt(pi))"
            ]
          },
          "execution_count": 42,
          "metadata": {},
          "output_type": "execute_result"
        }
      ],
      "source": [
        "Norm = Normal('Norm', 0, 1)\n",
        "\n",
        "Transformed_var = 2 * Norm + 3\n",
        "\n",
        "Expect = Expectation(Transformed_var).doit()\n",
        "Var = variance(Transformed_var).doit()\n",
        "pdf_transformed_var = density(Transformed_var)(symbols('y'))\n",
        "\n",
        "\n",
        "print(\"E[Transformed_var]:\", Expect)\n",
        "print(\"Var[Transformed_var]:\", Var)\n",
        "print(\"Density Function:\")\n",
        "simplify(pdf_transformed_var)\n"
      ]
    },
    {
      "cell_type": "markdown",
      "metadata": {
        "id": "dS8QQmD-gdOa"
      },
      "source": [
        "# Sampling from Distributions"
      ]
    },
    {
      "cell_type": "markdown",
      "metadata": {
        "id": "wYfPG6Efialk"
      },
      "source": [
        "**Significance of Sampling from a Distribution**\n",
        "\n",
        "Sampling from a probability distribution is important because it allows us to simulate, estimate, and analyze real-world data where randomness plays a role.\n",
        "\n",
        "For Example:\n",
        "\n",
        "**Understanding Random Behavior**\n",
        "1. When you sample from a Normal(0,1) distribution, for example, you get values mostly centered around 0 with some variation.\n",
        "2. If you sample from a Poisson(λ=3), the numbers tend to be small integers around 3.\n",
        "3. This helps in understanding how real-world processes behave (e.g., height distribution, number of customer arrivals per minute).\n",
        "\n",
        "**Checking Theoretical vs. Empirical Distributions**\n",
        "\n",
        "If we sample a large number of values, we can plot a histogram and compare it with the expected probability distribution.\n",
        "\n",
        "Example: Sampling 1000 values from N(0,1) should give a bell-shaped curve.\n",
        "\n"
      ]
    },
    {
      "cell_type": "markdown",
      "metadata": {
        "id": "ZG1J38a_gngJ"
      },
      "source": [
        "**Sampling from a Standard Normal Distribution**"
      ]
    },
    {
      "cell_type": "code",
      "execution_count": 43,
      "metadata": {
        "colab": {
          "base_uri": "https://localhost:8080/"
        },
        "id": "i_j9gv34duK7",
        "outputId": "59fed4b9-30c7-46f6-8f3a-fcd80e811af3"
      },
      "outputs": [
        {
          "name": "stdout",
          "output_type": "stream",
          "text": [
            "Single Sample: -0.72\n",
            "Multiple Samples: [np.float64(1.07), np.float64(0.26), np.float64(-0.16), np.float64(-0.05), np.float64(-0.22), np.float64(1.27), np.float64(-0.6), np.float64(-1.35), np.float64(-0.5), np.float64(-1.02), np.float64(-0.08), np.float64(-1.2), np.float64(-0.72), np.float64(-0.2), np.float64(0.27), np.float64(0.01), np.float64(0.33), np.float64(-1.35), np.float64(-0.22), np.float64(1.21)]\n"
          ]
        }
      ],
      "source": [
        "#Normal distribution X ~ N(0,1)\n",
        "Norm = Normal('Norm', 0, 1)\n",
        "\n",
        "print(\"Single Sample:\", round(sample(Norm),2))\n",
        "\n",
        "# Sample multiple values (Ex: 20 values)\n",
        "samples = [round(sample(Norm),2) for _ in range(20)]\n",
        "print(\"Multiple Samples:\", samples)\n"
      ]
    },
    {
      "cell_type": "markdown",
      "metadata": {
        "id": "wgGVuMH6hWNm"
      },
      "source": [
        "**Sampling from a Binomial Distribution**"
      ]
    },
    {
      "cell_type": "code",
      "execution_count": 44,
      "metadata": {
        "colab": {
          "base_uri": "https://localhost:8080/"
        },
        "id": "TGceNDLfg00z",
        "outputId": "5164cc69-4f95-4ce8-ff6b-352d461c5f09"
      },
      "outputs": [
        {
          "name": "stdout",
          "output_type": "stream",
          "text": [
            "Binomial Samples: [np.int64(4), np.int64(5), np.int64(5), np.int64(4), np.int64(5), np.int64(4), np.int64(5), np.int64(3), np.int64(2), np.int64(7), np.int64(8), np.int64(5), np.int64(5), np.int64(4), np.int64(7), np.int64(2), np.int64(6), np.int64(3), np.int64(7), np.int64(6)]\n"
          ]
        }
      ],
      "source": [
        "# X ~ Bin(10, 0.5)\n",
        "bin = Binomial('Bin', 10, 0.5)\n",
        "\n",
        "samples = [sample(bin) for _ in range(20)]\n",
        "print(\"Binomial Samples:\", samples)\n"
      ]
    },
    {
      "cell_type": "markdown",
      "metadata": {
        "id": "2Wj8lg4dhppD"
      },
      "source": [
        "**Sampling from a Poisson Distribution**"
      ]
    },
    {
      "cell_type": "code",
      "execution_count": 45,
      "metadata": {
        "colab": {
          "base_uri": "https://localhost:8080/"
        },
        "id": "F0krFHyfhhCF",
        "outputId": "ac2ed500-dacb-464b-c58c-1702c860f3d4"
      },
      "outputs": [
        {
          "name": "stdout",
          "output_type": "stream",
          "text": [
            "Poisson Samples: [np.int64(1), np.int64(4), np.int64(2), np.int64(2), np.int64(2), np.int64(2), np.int64(4), np.int64(3), np.int64(1), np.int64(3), np.int64(3), np.int64(0), np.int64(2), np.int64(3), np.int64(2), np.int64(3), np.int64(4), np.int64(2), np.int64(2), np.int64(6)]\n"
          ]
        }
      ],
      "source": [
        "# Poisson distribution X ~ Poisson(3)\n",
        "Poiss = Poisson('Poiss', 3)\n",
        "\n",
        "samples = [sample(Poiss) for _ in range(20)]\n",
        "print(\"Poisson Samples:\", samples)"
      ]
    },
    {
      "cell_type": "markdown",
      "metadata": {
        "id": "OXxCei2zj6Vf"
      },
      "source": [
        "# Visualization of Distributions"
      ]
    },
    {
      "cell_type": "markdown",
      "metadata": {
        "id": "580t2IsCj8jd"
      },
      "source": [
        "**Normal Distribution (N(0,1))**\n",
        "\n",
        "\n"
      ]
    },
    {
      "cell_type": "code",
      "execution_count": 46,
      "metadata": {
        "colab": {
          "base_uri": "https://localhost:8080/",
          "height": 472
        },
        "id": "PrR_xeUtksKk",
        "outputId": "b8b8552d-7a5c-45f6-904c-c172bc86c33c"
      },
      "outputs": [
        {
          "data": {
            "image/png": "[encoded data removed]",
            "text/plain": [
              "<Figure size 640x480 with 1 Axes>"
            ]
          },
          "metadata": {},
          "output_type": "display_data"
        }
      ],
      "source": [
        "#Normal distribution N(0,1)\n",
        "X_normal = Normal('X', 0, 1)\n",
        "x = symbols('x')\n",
        "\n",
        "pdf_normal = density(X_normal)(x)\n",
        "\n",
        "# Plot the PDF of Normal Distribution\n",
        "x_vals = np.linspace(-4, 4, 1000)\n",
        "y_vals_normal = [pdf_normal.subs(x, val) for val in x_vals]\n",
        "\n",
        "plt.plot(x_vals, y_vals_normal, label='Normal N(0,1)', color='blue')\n",
        "plt.title('Normal Distribution N(0,1)')\n",
        "plt.xlabel('Value')\n",
        "plt.ylabel('Density')\n",
        "plt.legend()\n",
        "plt.grid(True)\n",
        "plt.show()\n"
      ]
    },
    {
      "cell_type": "markdown",
      "metadata": {
        "id": "XZP47BKCmHl3"
      },
      "source": [
        "* This is the Probability Density Function (PDF) for a Normal distribution with mean 0 and standard deviation 1.\n",
        "\n",
        "* You can see a bell-shaped curve, which is the characteristic of the normal distribution.\n",
        "\n"
      ]
    },
    {
      "cell_type": "markdown",
      "metadata": {
        "id": "sXbdSGz9mYpO"
      },
      "source": [
        "**Bernoulli Distribution (Bernoulli(0.7))**"
      ]
    },
    {
      "cell_type": "code",
      "execution_count": 47,
      "metadata": {
        "colab": {
          "base_uri": "https://localhost:8080/",
          "height": 472
        },
        "id": "MyFNhMUll1zH",
        "outputId": "5d922ffe-a0d3-4e56-9739-41e305caa411"
      },
      "outputs": [
        {
          "data": {
            "image/png": "[encoded data removed]",
            "text/plain": [
              "<Figure size 640x480 with 1 Axes>"
            ]
          },
          "metadata": {},
          "output_type": "display_data"
        }
      ],
      "source": [
        "# Bernoulli distribution with p = 0.7\n",
        "X_bernoulli = Bernoulli('X', 0.7)\n",
        "\n",
        "pmf_bernoulli = [density(X_bernoulli)(val).subs(x, val) for val in [0, 1]]\n",
        "\n",
        "plt.bar([0, 1], pmf_bernoulli, label='Bernoulli p=0.7', color='orange', alpha=0.6)\n",
        "plt.title('Bernoulli Distribution p=0.7')\n",
        "plt.xlabel('Outcome')\n",
        "plt.ylabel('Probability')\n",
        "plt.xticks([0, 1], ['Failure (0)', 'Success (1)'])\n",
        "plt.legend()\n",
        "plt.show()\n"
      ]
    },
    {
      "cell_type": "markdown",
      "metadata": {
        "id": "jeN957eam9_B"
      },
      "source": [
        "**Binomial Distribution (Binomial(10, 0.5))**"
      ]
    },
    {
      "cell_type": "code",
      "execution_count": 48,
      "metadata": {
        "colab": {
          "base_uri": "https://localhost:8080/",
          "height": 472
        },
        "id": "TBbBB52LmnjQ",
        "outputId": "b9bd22c7-7f24-4386-e46f-70a3ca1abf33"
      },
      "outputs": [
        {
          "data": {
            "image/png": "[encoded data removed]",
            "text/plain": [
              "<Figure size 640x480 with 1 Axes>"
            ]
          },
          "metadata": {},
          "output_type": "display_data"
        }
      ],
      "source": [
        "# Binomial distribution Binomial(10, 0.5)\n",
        "X_binomial = Binomial('X', 10, 0.5)\n",
        "\n",
        "x_binomial = np.arange(0, 11)\n",
        "pmf_binomial = [density(X_binomial)(val).subs(x, val) for val in x_binomial]\n",
        "\n",
        "\n",
        "plt.bar(x_binomial, pmf_binomial, label='Binomial Bin(10, 0.5)', color='red', alpha=0.6)\n",
        "plt.title('Binomial Distribution Bin(10, 0.5)')\n",
        "plt.xlabel('Number of Successes')\n",
        "plt.ylabel('Probability')\n",
        "plt.legend()\n",
        "plt.show()\n"
      ]
    },
    {
      "cell_type": "markdown",
      "metadata": {
        "id": "wUoQj-2BnVvK"
      },
      "source": [
        "**Poisson Distribution (Poisson(3))**"
      ]
    },
    {
      "cell_type": "code",
      "execution_count": null,
      "metadata": {
        "colab": {
          "base_uri": "https://localhost:8080/",
          "height": 472
        },
        "id": "1J8eO2-RnL7O",
        "outputId": "c178c524-c8af-4cf4-e9a0-dc4feefaf3c0"
      },
      "outputs": [
        {
          "data": {
            "image/png": "[encoded data removed]",
            "text/plain": [
              "<Figure size 640x480 with 1 Axes>"
            ]
          },
          "metadata": {},
          "output_type": "display_data"
        }
      ],
      "source": [
        "X_poisson = Poisson('X', 3)\n",
        "\n",
        "x_poisson = np.arange(0, 15)\n",
        "pmf_poisson = [density(X_poisson)(val).subs(x, val) for val in x_poisson]\n",
        "\n",
        "plt.bar(x_poisson, pmf_poisson, label='Poisson λ=3', color='purple', alpha=0.6)\n",
        "plt.title('Poisson Distribution λ=3')\n",
        "plt.xlabel('Number of Events')\n",
        "plt.ylabel('Probability')\n",
        "plt.legend()\n",
        "plt.show()\n"
      ]
    },
    {
      "cell_type": "markdown",
      "metadata": {
        "id": "lfPlNkTRQGzQ"
      },
      "source": [
        "# **Use Cases**"
      ]
    },
    {
      "cell_type": "markdown",
      "metadata": {
        "id": "SUPEoHUSQPOY"
      },
      "source": [
        "**Practical Applications**"
      ]
    },
    {
      "cell_type": "markdown",
      "metadata": {
        "id": "BupWUxnfQe27"
      },
      "source": [
        "Sympy(Python library for symbolic mathematics) allows exact computations unlike numerical methods that approximate values and it is used in solving some real world problems. Here are some of the practical usecases:-\n",
        "\n",
        "1. Cryptography & Cybersecurity   \n",
        "*   Handling modular arithmetic\n",
        "*   Implementing RSA-related computations  \n",
        "\n",
        "2. Medicine & Drug Discovery\n",
        "*   Helps in predicting how fast a disease spreads\n",
        "\n",
        "3. Finance & Economics\n",
        "*   Helps find the best investment allocation mathematically!\n",
        "\n",
        "4. Calculus (Differentiation & Integration)\n",
        "*   Evaluating limits\n",
        "*   Computing derivatives and integrals\n",
        "*   Handling series expansions\n",
        "\n",
        "5. Physics and Mechanics\n",
        "*   Symbolic solutions for equations of motion\n",
        "*   Computing work and energy expressions\n",
        "\n",
        "6. Control Systems\n",
        "*   Laplace transforms\n",
        "*   Transfer functions\n",
        "\n",
        "\n",
        "\n",
        "\n"
      ]
    },
    {
      "cell_type": "markdown",
      "metadata": {
        "id": "jM0Jh1SfQChD"
      },
      "source": [
        "# **Conclusion**\n",
        "\n",
        "SymPy Stats is a powerful tool for symbolic probability computations, making it valuable for theoretical and educational purposes. Unlike numerical approaches, it enables exact probability manipulations, making it particularly useful in research, teaching, and analytical problem-solving.\n",
        "\n",
        "With its ability to define and manipulate random variables algebraically, compute probabilities, expectations, variances, and even perform conditional probability analysis, SymPy Stats stands out as a unique library. It provides a deeper understanding of probability theory by allowing symbolic derivations instead of just numerical approximations.\n",
        "\n",
        "Additionally, integrating SymPy Stats with visualization tools like Matplotlib enhances comprehension by allowing users to visualize probability distributions and their properties effectively. Whether for academic study, probabilistic modeling, or symbolic computations, SymPy Stats serves as a versatile and robust library in the Python ecosystem.\n"
      ]
    },
    {
      "cell_type": "markdown",
      "metadata": {
        "id": "mLeZC-HZQkrj"
      },
      "source": [
        "\n",
        "# **References & Further Reading**\n",
        "\n",
        "**Official Documentation**\n",
        "\n",
        "SymPy Stats Documentation: https://docs.sympy.org/latest/modules/stats.html\n",
        "\n",
        "SymPy Official Website: https://www.sympy.org\n",
        "\n",
        "**Tutorials**\n",
        "\n",
        "Python SymPy Tutorial – Introduction to the Symbolic Computation Library -\n",
        "[YouTube](https://www.youtube.com/watch?v=HDRJca79Aag&list=PLHwXkLexR9MDJewziHzhHcEKUg4VRwUFq)"
      ]
    }
  ],
  "metadata": {
    "colab": {
      "provenance": []
    },
    "kernelspec": {
      "display_name": "base",
      "name": "python3"
    },
    "language_info": {
      "codemirror_mode": {
        "name": "ipython",
        "version": 3
      },
      "file_extension": ".py",
      "mimetype": "text/x-python",
      "name": "python",
      "nbconvert_exporter": "python",
      "pygments_lexer": "ipython3",
      "version": "3.13.1"
    }
  },
  "nbformat": 4,
  "nbformat_minor": 0
}
