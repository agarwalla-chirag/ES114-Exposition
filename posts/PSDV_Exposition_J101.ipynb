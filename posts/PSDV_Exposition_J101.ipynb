{
  "nbformat": 4,
  "nbformat_minor": 0,
  "metadata": {
    "colab": {
      "provenance": []
    },
    "kernelspec": {
      "name": "python3",
      "display_name": "Python 3"
    },
    "language_info": {
      "name": "python"
    }
  },
  "cells": [
    {
      "cell_type": "markdown",
      "source": [
        "#(Run all code blocks when starting)\n",
        "\n",
        "\n"
      ],
      "metadata": {
        "id": "4AlfCtFx-y-7"
      }
    },
    {
      "cell_type": "markdown",
      "source": [
        "#Introduction\n",
        "\n",
        "SymPy Stats is a powerful module in the SymPy library that provides symbolic tools for probability and statistics in Python. It enables the algebraic manipulation of random variables, making it perfect for probabilistic modeling and statistical analysis.\n",
        "\n",
        "In this blog, we’ll explore the key features of SymPy Stats, including how to define random variables, compute probabilities, and analyze statistical properties such as expectation, variance, and more. Additionally, we’ll dive into important concepts like conditional probability, independence, and other advanced topics in symbolic statistics.\n",
        "\n"
      ],
      "metadata": {
        "id": "6yHLJjFl_nNe"
      }
    },
    {
      "cell_type": "markdown",
      "source": [
        "#Installation and Setup"
      ],
      "metadata": {
        "id": "o8ds9C6w_HJ1"
      }
    },
    {
      "cell_type": "markdown",
      "source": [
        "To use SymPy Stats, ensure that SymPy is installed. It can be installed using:\n",
        "```python\n",
        "pip install sympy\n",
        "```\n",
        "Now, import the necessary modules:"
      ],
      "metadata": {
        "id": "4E5gcs3qHFRS"
      }
    },
    {
      "cell_type": "code",
      "execution_count": 13,
      "metadata": {
        "id": "mga9zI5E0Uc4"
      },
      "outputs": [],
      "source": [
        "from sympy.stats import *\n",
        "from sympy import symbols, Eq\n",
        "import matplotlib.pyplot as plt\n",
        "import numpy as np"
      ]
    },
    {
      "cell_type": "markdown",
      "source": [
        "#Code Examples"
      ],
      "metadata": {
        "id": "2V4RABp5_XVx"
      }
    },
    {
      "cell_type": "markdown",
      "source": [
        "#CHIRAG"
      ],
      "metadata": {
        "id": "xjzRzzA8_exW"
      }
    },
    {
      "cell_type": "code",
      "source": [
        "X = Normal('X', 0, 1)  # Standard Normal Variable\n",
        "\n",
        "P(X > 0)  # Probability that X is greater than 0"
      ],
      "metadata": {
        "colab": {
          "base_uri": "https://localhost:8080/",
          "height": 51
        },
        "id": "AlC1bWwM6_Sv",
        "outputId": "93cd3787-83a1-42aa-bf18-44266874d012"
      },
      "execution_count": 14,
      "outputs": [
        {
          "output_type": "execute_result",
          "data": {
            "text/plain": [
              "1/2"
            ],
            "text/latex": "$\\displaystyle \\frac{1}{2}$"
          },
          "metadata": {},
          "execution_count": 14
        }
      ]
    },
    {
      "cell_type": "markdown",
      "source": [],
      "metadata": {
        "id": "qDUz-fbV8tba"
      }
    },
    {
      "cell_type": "code",
      "source": [
        "Y = Exponential('Y', 1)  # Exponential Variable\n",
        "\n",
        "P(Eq(Y, 1))  # Probability that Y equals 1 (symbolic computation)"
      ],
      "metadata": {
        "colab": {
          "base_uri": "https://localhost:8080/",
          "height": 37
        },
        "id": "HGgXr9yP7Iiz",
        "outputId": "834dbee0-6112-4632-8a77-19e5a02c14d2"
      },
      "execution_count": 15,
      "outputs": [
        {
          "output_type": "execute_result",
          "data": {
            "text/plain": [
              "0"
            ],
            "text/latex": "$\\displaystyle 0$"
          },
          "metadata": {},
          "execution_count": 15
        }
      ]
    },
    {
      "cell_type": "code",
      "source": [
        "Z = Uniform('Z', 0, 10)  # Uniform Variable between 0 and 10\n",
        "\n",
        "P(Z < 5)  # Probability that Z is less than 5"
      ],
      "metadata": {
        "colab": {
          "base_uri": "https://localhost:8080/",
          "height": 51
        },
        "id": "xtam7hAX8YZc",
        "outputId": "99ff433d-e5ad-42da-cda3-bfece66c1e12"
      },
      "execution_count": 16,
      "outputs": [
        {
          "output_type": "execute_result",
          "data": {
            "text/plain": [
              "1/2"
            ],
            "text/latex": "$\\displaystyle \\frac{1}{2}$"
          },
          "metadata": {},
          "execution_count": 16
        }
      ]
    },
    {
      "cell_type": "code",
      "source": [
        "B = Bernoulli('B', 0.5)  # Bernoulli Variable\n",
        "\n",
        "P(Eq(B, 1))  # Probability that B equals 1"
      ],
      "metadata": {
        "colab": {
          "base_uri": "https://localhost:8080/",
          "height": 37
        },
        "id": "zL0CWvmt8f6N",
        "outputId": "d362fe7d-3243-4163-f8e8-4fcd4671aeb3"
      },
      "execution_count": 17,
      "outputs": [
        {
          "output_type": "execute_result",
          "data": {
            "text/plain": [
              "0.500000000000000"
            ],
            "text/latex": "$\\displaystyle 0.5$"
          },
          "metadata": {},
          "execution_count": 17
        }
      ]
    },
    {
      "cell_type": "code",
      "source": [
        "Bin = Binomial('Bin', 10, 0.5)  # Binomial Variable\n",
        "\n",
        "P(Eq(Bin, 5))  # Probability that Bin equals 5"
      ],
      "metadata": {
        "colab": {
          "base_uri": "https://localhost:8080/",
          "height": 37
        },
        "id": "c7X8IkFc8mRq",
        "outputId": "a1275781-b41f-448a-daf9-29d2c51daec1"
      },
      "execution_count": 18,
      "outputs": [
        {
          "output_type": "execute_result",
          "data": {
            "text/plain": [
              "0.246093750000000"
            ],
            "text/latex": "$\\displaystyle 0.24609375$"
          },
          "metadata": {},
          "execution_count": 18
        }
      ]
    },
    {
      "cell_type": "code",
      "source": [
        "Poiss = Poisson('Poiss', 3)  # Poisson-distributed random variable X with a mean (λ) of 3.\n",
        "\n",
        "P(Eq(Poiss, 2))  # Probability that Poisson variable equals 2"
      ],
      "metadata": {
        "colab": {
          "base_uri": "https://localhost:8080/",
          "height": 51
        },
        "id": "XcGDjAUS8q63",
        "outputId": "a70534dc-1b9a-4a69-9869-c5edfd17d659"
      },
      "execution_count": 19,
      "outputs": [
        {
          "output_type": "execute_result",
          "data": {
            "text/plain": [
              "9*exp(-3)/2"
            ],
            "text/latex": "$\\displaystyle \\frac{9}{2 e^{3}}$"
          },
          "metadata": {},
          "execution_count": 19
        }
      ]
    },
    {
      "cell_type": "markdown",
      "source": [
        "#Nishant"
      ],
      "metadata": {
        "id": "3X643CXI-qT7"
      }
    },
    {
      "cell_type": "code",
      "source": [
        "## 5. Entropy Calculation\n",
        "\n",
        "H(X)  # Entropy of a normal distribution\n",
        "\n"
      ],
      "metadata": {
        "id": "a_n7Gafu82jI",
        "colab": {
          "base_uri": "https://localhost:8080/",
          "height": 53
        },
        "outputId": "eabf59e2-d684-4044-e0df-b75d62f3e9eb"
      },
      "execution_count": 20,
      "outputs": [
        {
          "output_type": "execute_result",
          "data": {
            "text/plain": [
              "log(2)/2 + 1/2 + log(pi)/2"
            ],
            "text/latex": "$\\displaystyle \\frac{\\log{\\left(2 \\right)}}{2} + \\frac{1}{2} + \\frac{\\log{\\left(\\pi \\right)}}{2}$"
          },
          "metadata": {},
          "execution_count": 20
        }
      ]
    },
    {
      "cell_type": "code",
      "source": [
        "H(Y)  # Entropy of an exponential distribution"
      ],
      "metadata": {
        "colab": {
          "base_uri": "https://localhost:8080/",
          "height": 37
        },
        "id": "8fnogzZZD0vk",
        "outputId": "c94e15ec-c6f6-4a24-b8ce-934b3df18bac"
      },
      "execution_count": 21,
      "outputs": [
        {
          "output_type": "execute_result",
          "data": {
            "text/plain": [
              "1"
            ],
            "text/latex": "$\\displaystyle 1$"
          },
          "metadata": {},
          "execution_count": 21
        }
      ]
    },
    {
      "cell_type": "code",
      "source": [
        "H(B)  # Entropy of a Bernoulli distribution\n"
      ],
      "metadata": {
        "colab": {
          "base_uri": "https://localhost:8080/",
          "height": 37
        },
        "id": "tT8iE-AWD12S",
        "outputId": "ac303882-6f51-46a7-b8ea-6ccabe8279f8"
      },
      "execution_count": 22,
      "outputs": [
        {
          "output_type": "execute_result",
          "data": {
            "text/plain": [
              "0.693147180559945"
            ],
            "text/latex": "$\\displaystyle 0.693147180559945$"
          },
          "metadata": {},
          "execution_count": 22
        }
      ]
    },
    {
      "cell_type": "code",
      "source": [
        "## 6. Symbolic Distribution Manipulation\n",
        "\n",
        "density(X)  # Probability Density Function of X\n"
      ],
      "metadata": {
        "colab": {
          "base_uri": "https://localhost:8080/",
          "height": 37
        },
        "id": "UiOa2082EGPX",
        "outputId": "2ecb0111-8c7c-49bd-b672-5f3d0cdab8f1"
      },
      "execution_count": 23,
      "outputs": [
        {
          "output_type": "execute_result",
          "data": {
            "text/plain": [
              "NormalDistribution(0, 1)"
            ],
            "text/latex": "$\\displaystyle \\operatorname{NormalDistribution}\\left(0, 1\\right)$"
          },
          "metadata": {},
          "execution_count": 23
        }
      ]
    },
    {
      "cell_type": "code",
      "source": [
        "cdf(Y)  # Cumulative Distribution Function of Y"
      ],
      "metadata": {
        "colab": {
          "base_uri": "https://localhost:8080/",
          "height": 68
        },
        "id": "juu3R-tQEN7C",
        "outputId": "5d8c541f-c52a-44a9-8160-a65e07bdcb7f"
      },
      "execution_count": 24,
      "outputs": [
        {
          "output_type": "execute_result",
          "data": {
            "text/plain": [
              "Lambda(_z, Piecewise((1 - exp(-_z), _z >= 0), (0, True)))"
            ],
            "text/latex": "$\\displaystyle \\left( z \\mapsto \\begin{cases} 1 - e^{- z} & \\text{for}\\: z \\geq 0 \\\\0 & \\text{otherwise} \\end{cases} \\right)$"
          },
          "metadata": {},
          "execution_count": 24
        }
      ]
    },
    {
      "cell_type": "code",
      "source": [
        "quantile(X, 0.95)  # 95th percentile of X"
      ],
      "metadata": {
        "colab": {
          "base_uri": "https://localhost:8080/",
          "height": 47
        },
        "id": "W5S06XCREOpG",
        "outputId": "ce06a928-a61c-42e0-8500-50090ed17134"
      },
      "execution_count": 25,
      "outputs": [
        {
          "output_type": "execute_result",
          "data": {
            "text/plain": [
              "Lambda(_p, sqrt(2)*erfinv(2*_p - 1))"
            ],
            "text/latex": "$\\displaystyle \\left( p \\mapsto \\sqrt{2} \\operatorname{erfinv}{\\left(2 p - 1 \\right)} \\right)$"
          },
          "metadata": {},
          "execution_count": 25
        }
      ]
    },
    {
      "cell_type": "code",
      "source": [
        "## 7. Conditional Probability\n",
        "\n",
        "P(X > 0, X < 2)  # P(X > 0 | X < 2)\n"
      ],
      "metadata": {
        "colab": {
          "base_uri": "https://localhost:8080/",
          "height": 64
        },
        "id": "w1UL7nfwEYvu",
        "outputId": "8773eb54-0810-4b41-e418-c731a386cbdc"
      },
      "execution_count": 26,
      "outputs": [
        {
          "output_type": "execute_result",
          "data": {
            "text/plain": [
              "-sqrt(2)*pi*exp(2)*erf(sqrt(2))/(-sqrt(2)*pi*exp(2) - sqrt(2)*pi*exp(2)*erf(sqrt(2)))"
            ],
            "text/latex": "$\\displaystyle - \\frac{\\sqrt{2} \\pi e^{2} \\operatorname{erf}{\\left(\\sqrt{2} \\right)}}{- \\sqrt{2} \\pi e^{2} - \\sqrt{2} \\pi e^{2} \\operatorname{erf}{\\left(\\sqrt{2} \\right)}}$"
          },
          "metadata": {},
          "execution_count": 26
        }
      ]
    },
    {
      "cell_type": "code",
      "source": [
        "P(Y > 2, Y < 5)  # P(Y > 2 | Y < 5)"
      ],
      "metadata": {
        "colab": {
          "base_uri": "https://localhost:8080/",
          "height": 55
        },
        "id": "n4x-GHtmEZ4I",
        "outputId": "8b76df76-b535-4b35-9dc5-e89c2366b431"
      },
      "execution_count": 27,
      "outputs": [
        {
          "output_type": "execute_result",
          "data": {
            "text/plain": [
              "-1/(-1 + exp(5)) + exp(3)/(-1 + exp(5))"
            ],
            "text/latex": "$\\displaystyle - \\frac{1}{-1 + e^{5}} + \\frac{e^{3}}{-1 + e^{5}}$"
          },
          "metadata": {},
          "execution_count": 27
        }
      ]
    },
    {
      "cell_type": "code",
      "source": [
        "P(Bin > 3, Bin < 8)  # P(Bin > 3 | Bin < 8)"
      ],
      "metadata": {
        "colab": {
          "base_uri": "https://localhost:8080/",
          "height": 37
        },
        "id": "eEQHCTScEfFL",
        "outputId": "5112c7aa-1549-4810-cdd4-760a02b7c3ed"
      },
      "execution_count": 28,
      "outputs": [
        {
          "output_type": "execute_result",
          "data": {
            "text/plain": [
              "0.818181818181818"
            ],
            "text/latex": "$\\displaystyle 0.818181818181818$"
          },
          "metadata": {},
          "execution_count": 28
        }
      ]
    },
    {
      "cell_type": "code",
      "source": [
        "P(Poiss > 1, Poiss < 4)  # P(Poisson > 1 | Poisson < 4)"
      ],
      "metadata": {
        "colab": {
          "base_uri": "https://localhost:8080/",
          "height": 51
        },
        "id": "5Qq7kgOtEiUM",
        "outputId": "3c43a247-6909-42bf-dd45-ddddb455681e"
      },
      "execution_count": 29,
      "outputs": [
        {
          "output_type": "execute_result",
          "data": {
            "text/plain": [
              "9/13"
            ],
            "text/latex": "$\\displaystyle \\frac{9}{13}$"
          },
          "metadata": {},
          "execution_count": 29
        }
      ]
    },
    {
      "cell_type": "code",
      "source": [
        "## 8. Independence and Dependence of Random Variables\n",
        "\n",
        "P(X > 0, Y > 1)  # Joint probability P(X > 0, Y > 1)\n"
      ],
      "metadata": {
        "colab": {
          "base_uri": "https://localhost:8080/",
          "height": 51
        },
        "id": "e8Ovh6VOEpTE",
        "outputId": "28ccb561-e6ef-4131-db07-a657af87d002"
      },
      "execution_count": 30,
      "outputs": [
        {
          "output_type": "execute_result",
          "data": {
            "text/plain": [
              "1/2"
            ],
            "text/latex": "$\\displaystyle \\frac{1}{2}$"
          },
          "metadata": {},
          "execution_count": 30
        }
      ]
    },
    {
      "cell_type": "code",
      "source": [
        "independent(X, Y)  # Check if X and Y are independent"
      ],
      "metadata": {
        "colab": {
          "base_uri": "https://localhost:8080/"
        },
        "id": "XM4-XXmqEu1f",
        "outputId": "ddbc681b-b69f-4d65-8c91-6f1b18cd95a6"
      },
      "execution_count": 31,
      "outputs": [
        {
          "output_type": "execute_result",
          "data": {
            "text/plain": [
              "True"
            ]
          },
          "metadata": {},
          "execution_count": 31
        }
      ]
    },
    {
      "cell_type": "code",
      "source": [
        "independent(B, Bin)  # Check if B and Bin are independent"
      ],
      "metadata": {
        "colab": {
          "base_uri": "https://localhost:8080/"
        },
        "id": "FZu9BUIjEyyn",
        "outputId": "26b58eda-3e9f-4fe4-8640-37b79911ac06"
      },
      "execution_count": 32,
      "outputs": [
        {
          "output_type": "execute_result",
          "data": {
            "text/plain": [
              "True"
            ]
          },
          "metadata": {},
          "execution_count": 32
        }
      ]
    },
    {
      "cell_type": "code",
      "source": [
        "dependent(B, Poiss)  # Check if B and Poiss are dependent"
      ],
      "metadata": {
        "colab": {
          "base_uri": "https://localhost:8080/"
        },
        "id": "JV5ALoDHE2Pu",
        "outputId": "40918144-8152-4f4f-abe9-c11e626d2a64"
      },
      "execution_count": 33,
      "outputs": [
        {
          "output_type": "execute_result",
          "data": {
            "text/plain": [
              "False"
            ]
          },
          "metadata": {},
          "execution_count": 33
        }
      ]
    },
    {
      "cell_type": "markdown",
      "source": [
        "#Niraj"
      ],
      "metadata": {
        "id": "TLgMBuQm-shh"
      }
    },
    {
      "cell_type": "code",
      "source": [],
      "metadata": {
        "id": "OOsghcN_-v_V"
      },
      "execution_count": 33,
      "outputs": []
    }
  ]
}